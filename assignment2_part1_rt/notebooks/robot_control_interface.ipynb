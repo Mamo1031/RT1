{
 "cells": [
  {
   "cell_type": "markdown",
   "metadata": {
    "id": "markdown_intro",
    "language": "markdown"
   },
   "source": [
    "# Robot Control Interface\n",
    "\n",
    "This notebook provides a ROS robot control interface (action client) with features:\n",
    "- Set a goal position (x, y)\n",
    "- Cancel the current goal\n",
    "- Real-time display of the robot’s current position\n",
    "- Display the distance to the closest obstacle"
   ]
  },
  {
   "cell_type": "code",
   "execution_count": 1,
   "metadata": {
    "id": "imports",
    "language": "python"
   },
   "outputs": [],
   "source": [
    "# Import required libraries\n",
    "import rospy\n",
    "import actionlib\n",
    "import numpy as np\n",
    "import matplotlib.pyplot as plt\n",
    "from IPython.display import display, clear_output\n",
    "import ipywidgets as widgets\n",
    "from nav_msgs.msg import Odometry\n",
    "from sensor_msgs.msg import LaserScan\n",
    "from geometry_msgs.msg import Point, Twist\n",
    "from assignment2_part1_rt.msg import PlanningAction, PlanningGoal, Status\n",
    "from std_srvs.srv import SetBool\n",
    "from assignment2_part1_rt.srv import DisAvg\n",
    "from actionlib_msgs.msg import GoalStatus\n",
    "import math\n",
    "import time"
   ]
  },
  {
   "cell_type": "code",
   "execution_count": 2,
   "metadata": {
    "id": "init_node",
    "language": "python"
   },
   "outputs": [
    {
     "name": "stdout",
     "output_type": "stream",
     "text": [
      "ROS node initialized: robot_control_interface\n"
     ]
    }
   ],
   "source": [
    "# Initialize ROS node\n",
    "if not rospy.core.is_initialized():\n",
    "    rospy.init_node('robot_control_interface', anonymous=True)\n",
    "    print(\"ROS node initialized: robot_control_interface\")\n",
    "else:\n",
    "    print(\"ROS node already initialized\")"
   ]
  },
  {
   "cell_type": "markdown",
   "metadata": {
    "id": "globals_header",
    "language": "markdown"
   },
   "source": [
    "## Global Variables and State Tracking"
   ]
  },
  {
   "cell_type": "code",
   "execution_count": 3,
   "metadata": {
    "id": "globals",
    "language": "python"
   },
   "outputs": [],
   "source": [
    "# Define global variables\n",
    "robot_position = {'x': 0.0, 'y': 0.0}\n",
    "robot_velocity = {'linear_x': 0.0, 'angular_z': 0.0}\n",
    "target_position = {'x': 0.0, 'y': 0.0}\n",
    "closest_obstacle = 10.0  # default max detection range\n",
    "regions = None  # laser scan regions\n",
    "goal_active = False  # whether a goal is active\n",
    "\n",
    "# Path history\n",
    "position_history = {'x': [], 'y': []}\n",
    "max_history_points = 100  # max history length"
   ]
  },
  {
   "cell_type": "markdown",
   "metadata": {
    "id": "callbacks_header",
    "language": "markdown"
   },
   "source": [
    "## Callback Functions"
   ]
  },
  {
   "cell_type": "code",
   "execution_count": 4,
   "metadata": {
    "id": "odom_callback",
    "language": "python"
   },
   "outputs": [],
   "source": [
    "# Odometry callback function\n",
    "def odom_callback(msg):\n",
    "    \"\"\"Process odometry to update position and velocity.\"\"\"\n",
    "    global robot_position, robot_velocity, position_history\n",
    "    \n",
    "    # Update position\n",
    "    robot_position['x'] = msg.pose.pose.position.x\n",
    "    robot_position['y'] = msg.pose.pose.position.y\n",
    "    \n",
    "    # Update velocity\n",
    "    robot_velocity['linear_x'] = msg.twist.twist.linear.x\n",
    "    robot_velocity['angular_z'] = msg.twist.twist.angular.z\n",
    "    \n",
    "    # Update position history\n",
    "    position_history['x'].append(robot_position['x'])\n",
    "    position_history['y'].append(robot_position['y'])\n",
    "    \n",
    "    # Limit history size\n",
    "    if len(position_history['x']) > max_history_points:\n",
    "        position_history['x'].pop(0)\n",
    "        position_history['y'].pop(0)"
   ]
  },
  {
   "cell_type": "code",
   "execution_count": 5,
   "metadata": {
    "id": "laser_callback",
    "language": "python"
   },
   "outputs": [],
   "source": [
    "# Laser scan callback function\n",
    "def laser_callback(msg):\n",
    "    \"\"\"Process laser scan to find the closest obstacle.\"\"\"\n",
    "    global closest_obstacle, regions\n",
    "    \n",
    "    # Get minimum distance from laser scan data\n",
    "    ranges = list(filter(lambda x: not math.isinf(x), msg.ranges))\n",
    "    if ranges:\n",
    "        closest_obstacle = min(ranges)\n",
    "    else:\n",
    "        closest_obstacle = 10.0  # default value\n",
    "        \n",
    "    # Calculate distances for each region\n",
    "    regions = {\n",
    "        'right': min(min(msg.ranges[0:143]), 10),\n",
    "        'fright': min(min(msg.ranges[144:287]), 10),\n",
    "        'front': min(min(msg.ranges[288:431]), 10),\n",
    "        'fleft': min(min(msg.ranges[432:575]), 10),\n",
    "        'left': min(min(msg.ranges[576:719]), 10),\n",
    "    }"
   ]
  },
  {
   "cell_type": "markdown",
   "metadata": {
    "id": "action_client_header",
    "language": "markdown"
   },
   "source": [
    "## Action Client Setup"
   ]
  },
  {
   "cell_type": "code",
   "execution_count": 6,
   "metadata": {
    "id": "actionclient_init",
    "language": "python"
   },
   "outputs": [
    {
     "name": "stdout",
     "output_type": "stream",
     "text": [
      "Connecting to action server...\n",
      "Connected to action server\n"
     ]
    }
   ],
   "source": [
    "# Initialize action client\n",
    "client = actionlib.SimpleActionClient('/reaching_goal', PlanningAction)\n",
    "print(\"Connecting to action server...\")\n",
    "client_connected = client.wait_for_server(timeout=rospy.Duration(5.0))\n",
    "\n",
    "if client_connected:\n",
    "    print(\"Connected to action server\")\n",
    "else:\n",
    "    print(\"Failed to connect to action server. Please check ROS setup.\")"
   ]
  },
  {
   "cell_type": "code",
   "execution_count": 7,
   "metadata": {
    "id": "subscribers_setup",
    "language": "python"
   },
   "outputs": [
    {
     "name": "stdout",
     "output_type": "stream",
     "text": [
      "Connected to distance average service\n"
     ]
    }
   ],
   "source": [
    "# Set up subscribers\n",
    "odom_sub = rospy.Subscriber('/odom', Odometry, odom_callback)\n",
    "laser_sub = rospy.Subscriber('/scan', LaserScan, laser_callback)\n",
    "status_pub = rospy.Publisher('/status', Status, queue_size=1)\n",
    "\n",
    "# Set up services\n",
    "try:\n",
    "    rospy.wait_for_service('dist_avg', timeout=2.0)\n",
    "    dist_avg_service = rospy.ServiceProxy('dist_avg', DisAvg)\n",
    "    print(\"Connected to distance average service\")\n",
    "except rospy.ROSException:\n",
    "    print(\"Failed to connect to distance average service\")\n",
    "    dist_avg_service = None"
   ]
  },
  {
   "cell_type": "markdown",
   "metadata": {
    "id": "util_functions_header",
    "language": "markdown"
   },
   "source": [
    "## Utility Functions"
   ]
  },
  {
   "cell_type": "code",
   "execution_count": 8,
   "metadata": {
    "id": "utility_functions",
    "language": "python"
   },
   "outputs": [],
   "source": [
    "# Publish robot status function\n",
    "def publish_robot_status():\n",
    "    \"\"\"Publish the current robot status to the status topic\"\"\"\n",
    "    status = Status()\n",
    "    status.x = robot_position['x']\n",
    "    status.y = robot_position['y']\n",
    "    status.v_x = robot_velocity['linear_x']\n",
    "    status.v_z = robot_velocity['angular_z']\n",
    "    status_pub.publish(status)\n",
    "\n",
    "# Check if goal reached\n",
    "def goal_reached():\n",
    "    \"\"\"Check if the goal has been reached\"\"\"\n",
    "    return client.get_state() == GoalStatus.SUCCEEDED\n",
    "\n",
    "# Set goal function\n",
    "def set_goal(x, y):\n",
    "    \"\"\"Set a new goal position\"\"\"\n",
    "    global target_position, goal_active\n",
    "    \n",
    "    # Update coordinates\n",
    "    target_position['x'] = x\n",
    "    target_position['y'] = y\n",
    "    \n",
    "    # Update ROS parameters\n",
    "    rospy.set_param(\"des_pos_x\", x)\n",
    "    rospy.set_param(\"des_pos_y\", y)\n",
    "    \n",
    "    # Create and send goal\n",
    "    goal = PlanningGoal()\n",
    "    goal.target_pose.pose.position.x = x\n",
    "    goal.target_pose.pose.position.y = y\n",
    "    \n",
    "    client.send_goal(goal)\n",
    "    goal_active = True\n",
    "    \n",
    "    print(f\"Goal set: x={x}, y={y}\")\n",
    "    return True\n",
    "\n",
    "# Cancel goal function\n",
    "def cancel_goal():\n",
    "    \"\"\"Cancel the current goal\"\"\"\n",
    "    global goal_active\n",
    "    \n",
    "    if goal_reached():\n",
    "        print(\"Goal just reached. Cannot cancel.\")\n",
    "        return False\n",
    "    \n",
    "    client.cancel_goal()\n",
    "    goal_active = False\n",
    "    print(\"Goal canceled\")\n",
    "    return True"
   ]
  },
  {
   "cell_type": "markdown",
   "metadata": {
    "id": "ui_header",
    "language": "markdown"
   },
   "source": [
    "## Interactive UI Components"
   ]
  },
  {
   "cell_type": "code",
   "execution_count": 9,
   "metadata": {
    "id": "ui_widgets",
    "language": "python"
   },
   "outputs": [],
   "source": [
    "# Goal setting widgets\n",
    "x_slider = widgets.FloatSlider(\n",
    "    value=0.0,\n",
    "    min=-10.0,\n",
    "    max=10.0,\n",
    "    step=0.1,\n",
    "    description='X:',\n",
    "    continuous_update=False\n",
    ")\n",
    "\n",
    "y_slider = widgets.FloatSlider(\n",
    "    value=0.0,\n",
    "    min=-10.0,\n",
    "    max=10.0,\n",
    "    step=0.1,\n",
    "    description='Y:',\n",
    "    continuous_update=False\n",
    ")\n",
    "\n",
    "set_goal_button = widgets.Button(\n",
    "    description='Set Goal',\n",
    "    button_style='success',\n",
    "    tooltip='Click to set a new goal',\n",
    "    icon='check'\n",
    ")\n",
    "\n",
    "cancel_goal_button = widgets.Button(\n",
    "    description='Cancel Goal',\n",
    "    button_style='danger',\n",
    "    tooltip='Click to cancel the current goal',\n",
    "    icon='stop'\n",
    ")\n",
    "\n",
    "# Status display widget\n",
    "robot_status = widgets.HTML(\n",
    "    value='<h3>Robot Status</h3>',\n",
    "    placeholder='Robot status will be displayed here',\n",
    "    description='',\n",
    ")\n",
    "\n",
    "# Button event handlers\n",
    "def on_set_goal_button_clicked(b):\n",
    "    set_goal(x_slider.value, y_slider.value)\n",
    "    update_display()\n",
    "\n",
    "def on_cancel_goal_button_clicked(b):\n",
    "    cancel_goal()\n",
    "    update_display()\n",
    "\n",
    "# Register event handlers\n",
    "set_goal_button.on_click(on_set_goal_button_clicked)\n",
    "cancel_goal_button.on_click(on_cancel_goal_button_clicked)"
   ]
  },
  {
   "cell_type": "markdown",
   "metadata": {
    "id": "viz_header",
    "language": "markdown"
   },
   "source": [
    "## Visualization Functions"
   ]
  },
  {
   "cell_type": "code",
   "execution_count": 10,
   "metadata": {
    "id": "visualization",
    "language": "python"
   },
   "outputs": [],
   "source": [
    "# Visualize robot and environment\n",
    "def visualize_robot():\n",
    "    \"\"\"Visualize the robot's position, path history, and goal\"\"\"\n",
    "    plt.figure(figsize=(10, 8))\n",
    "    \n",
    "    # Set grid and axes\n",
    "    plt.grid(True)\n",
    "    plt.xlim(-12, 12)\n",
    "    plt.ylim(-12, 12)\n",
    "    plt.xlabel('X')\n",
    "    plt.ylabel('Y')\n",
    "    plt.title('Robot Position and Goal')\n",
    "    \n",
    "    # Draw path history\n",
    "    if position_history['x'] and position_history['y']:\n",
    "        plt.plot(position_history['x'], position_history['y'], 'b-', alpha=0.5, label='Path History')\n",
    "    \n",
    "    # Draw goal position\n",
    "    plt.plot(target_position['x'], target_position['y'], 'r*', markersize=15, label='Goal')\n",
    "    \n",
    "    # Draw current robot position\n",
    "    plt.plot(robot_position['x'], robot_position['y'], 'go', markersize=10, label='Robot')\n",
    "    \n",
    "    # Draw laser scan data (if available)\n",
    "    if regions:\n",
    "        # Simple obstacle display\n",
    "        angles = ['right', 'fright', 'front', 'fleft', 'left']\n",
    "        angle_values = [0, 45, 90, 135, 180]\n",
    "        \n",
    "        for i, region in enumerate(angles):\n",
    "            if regions[region] < 10.0:  # Display only if within max range\n",
    "                angle_rad = math.radians(angle_values[i])\n",
    "                obst_x = robot_position['x'] + regions[region] * math.cos(angle_rad)\n",
    "                obst_y = robot_position['y'] + regions[region] * math.sin(angle_rad)\n",
    "                plt.plot([robot_position['x'], obst_x], [robot_position['y'], obst_y], 'r-', alpha=0.3)\n",
    "                plt.plot(obst_x, obst_y, 'rx', markersize=8)\n",
    "    \n",
    "    plt.legend()\n",
    "    plt.show()\n",
    "\n",
    "# Update status display\n",
    "def update_status_display():\n",
    "    \"\"\"Update the robot status display\"\"\"\n",
    "    global robot_status\n",
    "    \n",
    "    # Get distance to goal\n",
    "    distance_to_goal = math.sqrt((target_position['x'] - robot_position['x'])**2 + \n",
    "                                (target_position['y'] - robot_position['y'])**2)\n",
    "    \n",
    "    # Construct status HTML\n",
    "    status_html = f\"\"\"\n",
    "    <h3>Robot Status</h3>\n",
    "    <table style=\"width:100%\">\n",
    "      <tr>\n",
    "        <td><b>Current Position:</b></td>\n",
    "        <td>X: {robot_position['x']:.2f}, Y: {robot_position['y']:.2f}</td>\n",
    "      </tr>\n",
    "      <tr>\n",
    "        <td><b>Goal Position:</b></td>\n",
    "        <td>X: {target_position['x']:.2f}, Y: {target_position['y']:.2f}</td>\n",
    "      </tr>\n",
    "      <tr>\n",
    "        <td><b>Distance to Goal:</b></td>\n",
    "        <td>{distance_to_goal:.2f} m</td>\n",
    "      </tr>\n",
    "      <tr>\n",
    "        <td><b>Closest Obstacle:</b></td>\n",
    "        <td>{closest_obstacle:.2f} m</td>\n",
    "      </tr>\n",
    "      <tr>\n",
    "        <td><b>Linear Velocity:</b></td>\n",
    "        <td>{robot_velocity['linear_x']:.2f} m/s</td>\n",
    "      </tr>\n",
    "      <tr>\n",
    "        <td><b>Angular Velocity:</b></td>\n",
    "        <td>{robot_velocity['angular_z']:.2f} rad/s</td>\n",
    "      </tr>\n",
    "      <tr>\n",
    "        <td><b>Goal Status:</b></td>\n",
    "        <td>{\"Active\" if goal_active else \"Inactive\"}</td>\n",
    "      </tr>\n",
    "    </table>\n",
    "    \"\"\"\n",
    "    \n",
    "    robot_status.value = status_html\n",
    "    \n",
    "    # Publish robot status to topic\n",
    "    publish_robot_status()"
   ]
  },
  {
   "cell_type": "code",
   "execution_count": 12,
   "metadata": {
    "id": "update_display",
    "language": "python",
    "scrolled": true
   },
   "outputs": [
    {
     "data": {
      "application/vnd.jupyter.widget-view+json": {
       "model_id": "27024080f80e47ba8a5b763aaf70c618",
       "version_major": 2,
       "version_minor": 0
      },
      "text/plain": [
       "VBox(children=(HBox(children=(FloatSlider(value=1.0, continuous_update=False, description='X:', max=10.0, min=…"
      ]
     },
     "metadata": {},
     "output_type": "display_data"
    },
    {
     "data": {
      "image/png": "[encoded data removed]",
      "text/plain": [
       "<Figure size 720x576 with 1 Axes>"
      ]
     },
     "metadata": {
      "needs_background": "light"
     },
     "output_type": "display_data"
    }
   ],
   "source": [
    "# Update the display\n",
    "def update_display():\n",
    "    \"\"\"Update the entire interface display\"\"\"\n",
    "    clear_output(wait=True)\n",
    "    update_status_display()\n",
    "    \n",
    "    # Display the control panel\n",
    "    controls = widgets.VBox([\n",
    "        widgets.HBox([x_slider, y_slider]),\n",
    "        widgets.HBox([set_goal_button, cancel_goal_button]),\n",
    "        robot_status\n",
    "    ])\n",
    "    \n",
    "    display(controls)\n",
    "    visualize_robot()\n",
    "\n",
    "# Initial display\n",
    "update_display()"
   ]
  },
  {
   "cell_type": "markdown",
   "metadata": {
    "id": "auto_update_header",
    "language": "markdown"
   },
   "source": [
    "## Auto Update Feature"
   ]
  },
  {
   "cell_type": "code",
   "execution_count": 13,
   "metadata": {
    "id": "auto_update",
    "language": "python",
    "scrolled": true
   },
   "outputs": [
    {
     "data": {
      "application/vnd.jupyter.widget-view+json": {
       "model_id": "3f6761f7111946ee82e56f2385f768cd",
       "version_major": 2,
       "version_minor": 0
      },
      "text/plain": [
       "VBox(children=(HBox(children=(FloatSlider(value=2.9, continuous_update=False, description='X:', max=10.0, min=…"
      ]
     },
     "metadata": {},
     "output_type": "display_data"
    }
   ],
   "source": [
    "# Code for automatic display update\n",
    "import threading\n",
    "import time\n",
    "\n",
    "def auto_update_display():\n",
    "    \"\"\"Automatically refreshes the display at regular intervals\"\"\"\n",
    "    try:\n",
    "        while True:\n",
    "            update_display()\n",
    "            time.sleep(1)\n",
    "    except Exception as e:\n",
    "        print(f\"Automatic update has ended: {e}\")\n",
    "\n",
    "# Start of the auto update thread\n",
    "update_thread = threading.Thread(target=auto_update_display)\n",
    "update_thread.daemon = True\n",
    "update_thread.start()"
   ]
  },
  {
   "cell_type": "markdown",
   "metadata": {
    "id": "cleanup_header",
    "language": "markdown"
   },
   "source": [
    "## Clean up\n",
    "\n",
    "Run this cell before closing the notebook to clean up resources."
   ]
  },
  {
   "cell_type": "code",
   "execution_count": 13,
   "metadata": {
    "id": "cleanup",
    "language": "python"
   },
   "outputs": [
    {
     "data": {
      "application/vnd.jupyter.widget-view+json": {
       "model_id": "8a5b1a994c964cd6bbb91f8b2fd5fdce",
       "version_major": 2,
       "version_minor": 0
      },
      "text/plain": [
       "VBox(children=(HBox(children=(FloatSlider(value=-0.4, continuous_update=False, description='X axis:', max=10.0, m…"
      ]
     },
     "metadata": {},
     "output_type": "display_data"
    }
   ],
   "source": [
    "# Cleaning up subscribers and publishers\n",
    "def cleanup():\n",
    "    \"\"\"Clean up your resources and unsubscribe\"\"\"\n",
    "    odom_sub.unregister()\n",
    "    laser_sub.unregister()\n",
    "    status_pub.unregister()\n",
    "    print(\"Cleanup completed, all subscriptions have been unsubscribed.\")\n",
    "\n",
    "# Clean up\n",
    "cleanup()"
   ]
  },
  {
   "cell_type": "code",
   "execution_count": null,
   "metadata": {},
   "outputs": [],
   "source": []
  }
 ],
 "metadata": {
  "kernelspec": {
   "display_name": "Python 3 (ipykernel)",
   "language": "python",
   "name": "python3"
  },
  "language_info": {
   "codemirror_mode": {
    "name": "ipython",
    "version": 3
   },
   "file_extension": ".py",
   "mimetype": "text/x-python",
   "name": "python",
   "nbconvert_exporter": "python",
   "pygments_lexer": "ipython3",
   "version": "3.8.5"
  }
 },
 "nbformat": 4,
 "nbformat_minor": 4
}
